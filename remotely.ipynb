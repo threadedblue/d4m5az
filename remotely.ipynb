{
 "cells": [
  {
   "cell_type": "code",
   "execution_count": 44,
   "metadata": {},
   "outputs": [
    {
     "name": "stdout",
     "output_type": "stream",
     "text": [
      "start==>\n"
     ]
    }
   ],
   "source": [
    "println(\"start==>\")"
   ]
  },
  {
   "cell_type": "code",
   "execution_count": 45,
   "metadata": {},
   "outputs": [],
   "source": [
    "using Distributed"
   ]
  },
  {
   "cell_type": "code",
   "execution_count": 46,
   "metadata": {},
   "outputs": [
    {
     "data": {
      "text/plain": [
       "1-element Array{String,1}:\n",
       " \"haz@uno\""
      ]
     },
     "execution_count": 46,
     "metadata": {},
     "output_type": "execute_result"
    }
   ],
   "source": [
    "#workers = [\"gcr@haz00\", \"gcr@haz11\", \"gcr@haz22\"]\n",
    "workers = [\"haz@uno\"]"
   ]
  },
  {
   "cell_type": "code",
   "execution_count": 47,
   "metadata": {},
   "outputs": [
    {
     "data": {
      "text/plain": [
       "1-element Array{Int64,1}:\n",
       " 6"
      ]
     },
     "execution_count": 47,
     "metadata": {},
     "output_type": "execute_result"
    }
   ],
   "source": [
    "#addprocs(workers; tunnel=true, exename=`julia`, dir=\"/home/gcr\")\n",
    "addprocs(workers; tunnel=true, exename=`julia`, dir=\"/home/haz\", sshflags=`-p 2222`)"
   ]
  },
  {
   "cell_type": "code",
   "execution_count": 23,
   "metadata": {},
   "outputs": [
    {
     "name": "stdout",
     "output_type": "stream",
     "text": [
      "C02Y50P5JGH7\n",
      "      From worker 3:\tuno\n"
     ]
    }
   ],
   "source": [
    "@everywhere println(gethostname())"
   ]
  },
  {
   "cell_type": "code",
   "execution_count": 48,
   "metadata": {},
   "outputs": [
    {
     "name": "stdout",
     "output_type": "stream",
     "text": [
      "      From worker 3:\tWARNING: replacing module aModule.\n"
     ]
    },
    {
     "name": "stderr",
     "output_type": "stream",
     "text": [
      "WARNING: replacing module aModule.\n"
     ]
    }
   ],
   "source": [
    "@everywhere module aModule\n",
    "           function aFunction(i)\n",
    "               i^2\n",
    "                gethostname()\n",
    "           end\n",
    "       end\n"
   ]
  },
  {
   "cell_type": "code",
   "execution_count": 52,
   "metadata": {},
   "outputs": [
    {
     "data": {
      "text/plain": [
       "\"uno\""
      ]
     },
     "execution_count": 52,
     "metadata": {},
     "output_type": "execute_result"
    }
   ],
   "source": [
    "pmap(aModule.aFunction, true)"
   ]
  },
  {
   "cell_type": "code",
   "execution_count": 55,
   "metadata": {
    "collapsed": true,
    "jupyter": {
     "outputs_hidden": true
    }
   },
   "outputs": [
    {
     "name": "stderr",
     "output_type": "stream",
     "text": [
      "WARNING: replacing module Encounters.\n",
      "┌ Warning: JavaCall needs the environment variable `JULIA_COPY_STACKS` to be `1` or `yes`.\n",
      "│ Calling the JVM may result in undefined behavior.\n",
      "└ @ JavaCall ~/.julia/packages/JavaCall/aVXyt/src/JavaCall.jl:53\n"
     ]
    },
    {
     "name": "stdout",
     "output_type": "stream",
     "text": [
      "      From worker 6:\t┌ Debug: Loaded /usr/lib/jvm/java-13-openjdk-amd64/lib/server/libjvm.so\n",
      "      From worker 6:\t└ @ JavaCall.JNI /home/haz/.julia/packages/JavaCall/aVXyt/src/JNI.jl:172\n",
      "      From worker 6:\t┌ Info: uno/localhost:2181/haz/haz\n",
      "      From worker 6:\t└ @ D4M /home/haz/D4M.jl/src/DB/DBserver.jl:56\n",
      "      From worker 6:\t┌ Info: DB.instanceName1=uno\n",
      "      From worker 6:\t└ @ Main.Encounters /home/haz/encounters.jl:9\n"
     ]
    },
    {
     "ename": "LoadError",
     "evalue": "Error deserializing a remote exception from worker 3\nRemote(original) exception of type LoadError\nRemote stacktrace : \nassertroottask_or_goodenv at /home/haz/.julia/packages/JavaCall/aVXyt/src/jvm.jl:236 [inlined]\n_init at /home/haz/.julia/packages/JavaCall/aVXyt/src/jvm.jl:285\ninit at /home/haz/.julia/packages/JavaCall/aVXyt/src/jvm.jl:277\ninit at /home/haz/.julia/packages/JavaCall/aVXyt/src/jvm.jl:263\ndbinit at /home/haz/D4M.jl/src/DB/DBserver.jl:33\ntop-level scope at /home/haz/encounters.jl:5\ninclude at ./client.jl:457\ntop-level scope at none:1\neval at ./boot.jl:331\n#103 at /buildworker/worker/package_linux64/build/usr/share/julia/stdlib/v1.5/Distributed/src/process_messages.jl:290\nrun_work_thunk at /buildworker/worker/package_linux64/build/usr/share/julia/stdlib/v1.5/Distributed/src/process_messages.jl:79\nrun_work_thunk at /buildworker/worker/package_linux64/build/usr/share/julia/stdlib/v1.5/Distributed/src/process_messages.jl:88\n#96 at ./task.jl:356\n\n...and 3 more exception(s).\n",
     "output_type": "error",
     "traceback": [
      "Error deserializing a remote exception from worker 3\nRemote(original) exception of type LoadError\nRemote stacktrace : \nassertroottask_or_goodenv at /home/haz/.julia/packages/JavaCall/aVXyt/src/jvm.jl:236 [inlined]\n_init at /home/haz/.julia/packages/JavaCall/aVXyt/src/jvm.jl:285\ninit at /home/haz/.julia/packages/JavaCall/aVXyt/src/jvm.jl:277\ninit at /home/haz/.julia/packages/JavaCall/aVXyt/src/jvm.jl:263\ndbinit at /home/haz/D4M.jl/src/DB/DBserver.jl:33\ntop-level scope at /home/haz/encounters.jl:5\ninclude at ./client.jl:457\ntop-level scope at none:1\neval at ./boot.jl:331\n#103 at /buildworker/worker/package_linux64/build/usr/share/julia/stdlib/v1.5/Distributed/src/process_messages.jl:290\nrun_work_thunk at /buildworker/worker/package_linux64/build/usr/share/julia/stdlib/v1.5/Distributed/src/process_messages.jl:79\nrun_work_thunk at /buildworker/worker/package_linux64/build/usr/share/julia/stdlib/v1.5/Distributed/src/process_messages.jl:88\n#96 at ./task.jl:356\n\n...and 3 more exception(s).\n",
      "",
      "Stacktrace:",
      " [1] sync_end(::Channel{Any}) at ./task.jl:314",
      " [2] macro expansion at ./task.jl:333 [inlined]",
      " [3] remotecall_eval(::Module, ::Array{Int64,1}, ::Expr) at /Users/julia/buildbot/worker/package_macos64/build/usr/share/julia/stdlib/v1.5/Distributed/src/macros.jl:218",
      " [4] top-level scope at /Users/julia/buildbot/worker/package_macos64/build/usr/share/julia/stdlib/v1.5/Distributed/src/macros.jl:202",
      " [5] include_string(::Function, ::Module, ::String, ::String) at ./loading.jl:1091",
      " [6] execute_code(::String, ::String) at /Users/geoffryroberts/.julia/packages/IJulia/a1SNk/src/execute_request.jl:27",
      " [7] execute_request(::ZMQ.Socket, ::IJulia.Msg) at /Users/geoffryroberts/.julia/packages/IJulia/a1SNk/src/execute_request.jl:86",
      " [8] #invokelatest#1 at ./essentials.jl:710 [inlined]",
      " [9] invokelatest at ./essentials.jl:709 [inlined]",
      " [10] eventloop(::ZMQ.Socket) at /Users/geoffryroberts/.julia/packages/IJulia/a1SNk/src/eventloop.jl:8",
      " [11] (::IJulia.var\"#15#18\")() at ./task.jl:356"
     ]
    }
   ],
   "source": [
    "@everywhere include(\"encounters.jl\")"
   ]
  },
  {
   "cell_type": "code",
   "execution_count": 57,
   "metadata": {
    "collapsed": true,
    "jupyter": {
     "outputs_hidden": true
    }
   },
   "outputs": [
    {
     "ename": "LoadError",
     "evalue": "UndefVarError: createT not defined",
     "output_type": "error",
     "traceback": [
      "UndefVarError: createT not defined",
      "",
      "Stacktrace:",
      " [1] getproperty(::Module, ::Symbol) at ./Base.jl:26",
      " [2] top-level scope at In[57]:1",
      " [3] include_string(::Function, ::Module, ::String, ::String) at ./loading.jl:1091",
      " [4] execute_code(::String, ::String) at /Users/geoffryroberts/.julia/packages/IJulia/a1SNk/src/execute_request.jl:27",
      " [5] execute_request(::ZMQ.Socket, ::IJulia.Msg) at /Users/geoffryroberts/.julia/packages/IJulia/a1SNk/src/execute_request.jl:86",
      " [6] #invokelatest#1 at ./essentials.jl:710 [inlined]",
      " [7] invokelatest at ./essentials.jl:709 [inlined]",
      " [8] eventloop(::ZMQ.Socket) at /Users/geoffryroberts/.julia/packages/IJulia/a1SNk/src/eventloop.jl:8",
      " [9] (::IJulia.var\"#15#18\")() at ./task.jl:356"
     ]
    },
    {
     "name": "stdout",
     "output_type": "stream",
     "text": [
      "      From worker 4:\t\n",
      "      From worker 4:\tsignal (15): Terminated\n",
      "      From worker 4:\tin expression starting at none:0\n",
      "      From worker 4:\tepoll_pwait at /lib/x86_64-linux-gnu/libc.so.6 (unknown line)\n",
      "      From worker 4:\tuv__io_poll at /workspace/srcdir/libuv/src/unix/linux-core.c:270\n",
      "      From worker 4:\tuv_run at /workspace/srcdir/libuv/src/unix/core.c:359\n",
      "      From worker 4:\tjl_task_get_next at /buildworker/worker/package_linux64/build/src/partr.c:473\n",
      "      From worker 3:\t\n",
      "      From worker 3:\tsignal (15): Terminated\n",
      "      From worker 3:\tin expression starting at none:0\n",
      "      From worker 3:\tepoll_pwait at /lib/x86_64-linux-gnu/libc.so.6 (unknown line)\n",
      "      From worker 3:\tuv__io_poll at /workspace/srcdir/libuv/src/unix/linux-core.c:270\n",
      "      From worker 3:\tuv_run at /workspace/srcdir/libuv/src/unix/core.c:359\n",
      "      From worker 3:\tjl_task_get_next at /buildworker/worker/package_linux64/build/src/partr.c:473\n",
      "      From worker 3:\tpoptask at ./task.jl:704\n",
      "      From worker 5:\t\n",
      "      From worker 5:\tsignal (15): Terminated\n",
      "      From worker 5:\tin expression starting at none:0\n",
      "      From worker 5:\tepoll_pwait at /lib/x86_64-linux-gnu/libc.so.6 (unknown line)\n",
      "      From worker 5:\tuv__io_poll at /workspace/srcdir/libuv/src/unix/linux-core.c:270\n",
      "      From worker 5:\tuv_run at /workspace/srcdir/libuv/src/unix/core.c:359\n",
      "      From worker 5:\tjl_task_get_next at /buildworker/worker/package_linux64/build/src/partr.c:473\n",
      "      From worker 5:\tpoptask at ./task.jl:704\n",
      "      From worker 4:\tpoptask at ./task.jl:704\n",
      "      From worker 4:\twait at ./task.jl:712 [inlined]\n",
      "      From worker 4:\ttask_done_hook at ./task.jl:442\n",
      "      From worker 4:\t_jl_invoke at /buildworker/worker/package_linux64/build/src/gf.c:2214 [inlined]\n",
      "      From worker 4:\tjl_apply_generic at /buildworker/worker/package_linux64/build/src/gf.c:2398\n",
      "      From worker 4:\tjl_apply at /buildworker/worker/package_linux64/build/src/julia.h:1690 [inlined]\n",
      "      From worker 3:\twait at ./task.jl:712 [inlined]\n",
      "      From worker 3:\ttask_done_hook at ./task.jl:442\n",
      "      From worker 3:\t_jl_invoke at /buildworker/worker/package_linux64/build/src/gf.c:2214 [inlined]\n",
      "      From worker 3:\tjl_apply_generic at /buildworker/worker/package_linux64/build/src/gf.c:2398\n",
      "      From worker 3:\tjl_apply at /buildworker/worker/package_linux64/build/src/julia.h:1690 [inlined]\n",
      "      From worker 3:\tjl_finish_task at /buildworker/worker/package_linux64/build/src/task.c:198\n",
      "      From worker 3:\tstart_task at /buildworker/worker/package_linux64/build/src/task.c:717\n",
      "      From worker 3:\tunknown function (ip: (nil))\n",
      "      From worker 3:\tunknown function (ip: (nil))\n",
      "      From worker 3:\tAllocations: 28997274 (Pool: 28988812; Big: 8462); GC: 33\n",
      "      From worker 5:\twait at ./task.jl:712 [inlined]\n",
      "      From worker 5:\ttask_done_hook at ./task.jl:442\n",
      "      From worker 5:\t_jl_invoke at /buildworker/worker/package_linux64/build/src/gf.c:2214 [inlined]\n",
      "      From worker 5:\tjl_apply_generic at /buildworker/worker/package_linux64/build/src/gf.c:2398\n",
      "      From worker 5:\tjl_apply at /buildworker/worker/package_linux64/build/src/julia.h:1690 [inlined]\n",
      "      From worker 4:\tjl_finish_task at /buildworker/worker/package_linux64/build/src/task.c:198\n",
      "      From worker 4:\tstart_task at /buildworker/worker/package_linux64/build/src/task.c:717\n",
      "      From worker 4:\tunknown function (ip: (nil))\n",
      "      From worker 4:\tunknown function (ip: (nil))\n",
      "      From worker 4:\tAllocations: 28990439 (Pool: 28982008; Big: 8431); GC: 32\n",
      "      From worker 5:\tjl_finish_task at /buildworker/worker/package_linux64/build/src/task.c:198\n",
      "      From worker 5:\tstart_task at /buildworker/worker/package_linux64/build/src/task.c:717\n",
      "      From worker 5:\tunknown function (ip: (nil))\n",
      "      From worker 5:\tunknown function (ip: (nil))\n",
      "      From worker 5:\tAllocations: 28119544 (Pool: 28111447; Big: 8097); GC: 30\n"
     ]
    },
    {
     "name": "stderr",
     "output_type": "stream",
     "text": [
      "Worker 6 terminated.\n",
      "Worker 3 terminated.\n",
      "Worker 5 terminated.\n",
      "Worker 4 terminated.\n"
     ]
    }
   ],
   "source": [
    "Tccd = pmap(Encounters.createT(), true)"
   ]
  },
  {
   "cell_type": "code",
   "execution_count": null,
   "metadata": {},
   "outputs": [],
   "source": [
    "pmap(Encounters.firstT(Tccd, \"Encounters,\"))"
   ]
  },
  {
   "cell_type": "code",
   "execution_count": null,
   "metadata": {},
   "outputs": [],
   "source": [
    "pmap(Encounters.nextT(Tccd))"
   ]
  },
  {
   "cell_type": "code",
   "execution_count": 27,
   "metadata": {},
   "outputs": [
    {
     "name": "stdout",
     "output_type": "stream",
     "text": [
      "<==end\n"
     ]
    }
   ],
   "source": [
    "println(\"<==end\")"
   ]
  }
 ],
 "metadata": {
  "kernelspec": {
   "display_name": "Julia 1.5.2",
   "language": "julia",
   "name": "julia-1.5"
  },
  "language_info": {
   "file_extension": ".jl",
   "mimetype": "application/julia",
   "name": "julia",
   "version": "1.5.2"
  }
 },
 "nbformat": 4,
 "nbformat_minor": 4
}
