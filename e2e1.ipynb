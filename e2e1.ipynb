{
 "cells": [
  {
   "cell_type": "code",
   "execution_count": 5,
   "metadata": {
    "collapsed": true,
    "jupyter": {
     "outputs_hidden": true
    }
   },
   "outputs": [
    {
     "ename": "LoadError",
     "evalue": "InitError: could not load library \"/Users/geoffryroberts/.julia/artifacts/c28cdc80b48b1077c8fc57d8e94e6eb9c1a4a776/lib/libavdevice.58.10.100.dylib\"\ndlopen(/Users/geoffryroberts/.julia/artifacts/c28cdc80b48b1077c8fc57d8e94e6eb9c1a4a776/lib/libavdevice.58.10.100.dylib, 1): Library not loaded: @rpath/libass.9.dylib\n  Referenced from: /Users/geoffryroberts/.julia/artifacts/c28cdc80b48b1077c8fc57d8e94e6eb9c1a4a776/lib/libavdevice.58.10.100.dylib\n  Reason: image not found\nduring initialization of module FFMPEG_jll",
     "output_type": "error",
     "traceback": [
      "InitError: could not load library \"/Users/geoffryroberts/.julia/artifacts/c28cdc80b48b1077c8fc57d8e94e6eb9c1a4a776/lib/libavdevice.58.10.100.dylib\"\ndlopen(/Users/geoffryroberts/.julia/artifacts/c28cdc80b48b1077c8fc57d8e94e6eb9c1a4a776/lib/libavdevice.58.10.100.dylib, 1): Library not loaded: @rpath/libass.9.dylib\n  Referenced from: /Users/geoffryroberts/.julia/artifacts/c28cdc80b48b1077c8fc57d8e94e6eb9c1a4a776/lib/libavdevice.58.10.100.dylib\n  Reason: image not found\nduring initialization of module FFMPEG_jll",
      "",
      "Stacktrace:",
      " [1] dlopen(::String, ::UInt32; throw_error::Bool) at /Users/julia/buildbot/worker/package_macos64/build/usr/share/julia/stdlib/v1.5/Libdl/src/Libdl.jl:109",
      " [2] dlopen(::String, ::UInt32) at /Users/julia/buildbot/worker/package_macos64/build/usr/share/julia/stdlib/v1.5/Libdl/src/Libdl.jl:109",
      " [3] macro expansion at /Users/geoffryroberts/.julia/packages/JLLWrappers/KuIwt/src/products/library_generators.jl:61 [inlined]",
      " [4] __init__() at /Users/geoffryroberts/.julia/packages/FFMPEG_jll/xCSqL/src/wrappers/x86_64-apple-darwin.jl:47",
      " [5] _include_from_serialized(::String, ::Array{Any,1}) at ./loading.jl:697",
      " [6] _require_search_from_serialized(::Base.PkgId, ::String) at ./loading.jl:782",
      " [7] _tryrequire_from_serialized(::Base.PkgId, ::UInt64, ::String) at ./loading.jl:712",
      " [8] _require_search_from_serialized(::Base.PkgId, ::String) at ./loading.jl:771",
      " [9] _tryrequire_from_serialized(::Base.PkgId, ::UInt64, ::String) at ./loading.jl:712",
      " [10] _require_search_from_serialized(::Base.PkgId, ::String) at ./loading.jl:771",
      " [11] _require(::Base.PkgId) at ./loading.jl:1007",
      " [12] require(::Base.PkgId) at ./loading.jl:928",
      " [13] require(::Module, ::Symbol) at ./loading.jl:923",
      " [14] include_string(::Function, ::Module, ::String, ::String) at ./loading.jl:1091",
      " [15] execute_code(::String, ::String) at /Users/geoffryroberts/.julia/packages/IJulia/a1SNk/src/execute_request.jl:27",
      " [16] execute_request(::ZMQ.Socket, ::IJulia.Msg) at /Users/geoffryroberts/.julia/packages/IJulia/a1SNk/src/execute_request.jl:86",
      " [17] #invokelatest#1 at ./essentials.jl:710 [inlined]",
      " [18] invokelatest at ./essentials.jl:709 [inlined]",
      " [19] eventloop(::ZMQ.Socket) at /Users/geoffryroberts/.julia/packages/IJulia/a1SNk/src/eventloop.jl:8",
      " [20] (::IJulia.var\"#15#18\")() at ./task.jl:356"
     ]
    }
   ],
   "source": [
    "ENV[\"JULIA_COPY_STACKS\"]=1\n",
    "using D4M, DataFrames, StatsBase, Plots\n",
    "ENV[\"LINES\"] = 600\n",
    "ENV[\"COLUMNS\"] = 500\n",
    "IJulia.set_max_stdio(1 << 20)\n",
    "ENV[\"JAVA_HOME\"]"
   ]
  },
  {
   "cell_type": "code",
   "execution_count": 2,
   "metadata": {
    "jupyter": {
     "source_hidden": true
    }
   },
   "outputs": [
    {
     "data": {
      "text/plain": [
       "(981,)"
      ]
     },
     "execution_count": 2,
     "metadata": {},
     "output_type": "execute_result"
    }
   ],
   "source": [
    "CCD1 = ReadCSV(\"ccd1.csv\")\n",
    "CCD2 = ReadCSV(\"ccd2.csv\")\n",
    "CCD3 = ReadCSV(\"ccd3.csv\")\n",
    "CCD4 = ReadCSV(\"ccd4.csv\")\n",
    "CCD5 = ReadCSV(\"ccd5.csv\")\n",
    "CCD = CCD1 + CCD2 + CCD3 +CCD4 + CCD5\n",
    "size(getrow(CCD))"
   ]
  },
  {
   "cell_type": "code",
   "execution_count": 3,
   "metadata": {
    "collapsed": true,
    "jupyter": {
     "outputs_hidden": true
    }
   },
   "outputs": [
    {
     "data": {
      "text/plain": [
       "Assoc(Union{AbstractString, Number}[\"0021bca5-354b-49a9-9aac-59061181b00f\", \"0023732c-8b82-4d90-bda4-a085ff824ec6\", \"002f4670-19c3-4ac9-9da6-833694acc87f\", \"010eab55-0134-4055-ba07-0ec84223ec14\", \"01753d6e-4d49-4446-a80d-ae939aa3862a\", \"019bb61d-afbd-433f-92df-893b38228c28\", \"01baef84-b5a7-48ef-aabc-01e1a31cbb5b\", \"020dc3c1-ee6e-483b-8183-1a40091c4c9d\", \"036e006c-24ac-4987-859a-0b8a353ee7e9\", \"03880e56-1dfe-4737-b822-8b44efabdadf\"  …  \"fd56d388-a92f-4292-983f-14eb67b6ef6c\", \"fdaa933e-abae-4ed2-b31f-e2fc4f49896f\", \"fdc86529-a54f-4243-9aaf-19f1bbbea2d0\", \"fded7432-414b-40ec-8a37-7f540edd7229\", \"fdf23654-f46b-49dd-8ef9-3362a244e26e\", \"fe2f3a1b-7376-48ad-9a5e-b5ee5fe32768\", \"fe391b78-6a0a-4022-9e4f-1160fbc305ed\", \"fe82143a-de3f-43e5-9927-4bb7729bbfa6\", \"ff026325-29a9-49c5-a694-171972c78d90\", \"ff2202ae-a625-4251-a51b-ff79ad1012e0\"], Union{AbstractString, Number}[\"Encounters.codeDisplay:Admission_to_surgical_department\", \"Encounters.codeDisplay:Admission_to_thoracic_surgery_department\", \"Encounters.codeDisplay:Allergic_disorder_follow-up_assessment\", \"Encounters.codeDisplay:Allergic_disorder_initial_assessment\", \"Encounters.codeDisplay:Asthma_follow-up\", \"Encounters.codeDisplay:Consultation_for_treatment\", \"Encounters.codeDisplay:Death_Certification\", \"Encounters.codeDisplay:Domiciliary_or_rest_home_patient_evaluation_and_management\", \"Encounters.codeDisplay:Drug_rehabilitation_and_detoxification\", \"Encounters.codeDisplay:Emergency_Encounter\"  …  \"Encounters.codeDisplay:Obstetric_emergency_hospital_admission\", \"Encounters.codeDisplay:Office_Visit\", \"Encounters.codeDisplay:Outpatient_procedure\", \"Encounters.codeDisplay:Outpatient_procedure_(procedure)\", \"Encounters.codeDisplay:Patient-initiated_encounter\", \"Encounters.codeDisplay:Patient_encounter_procedure\", \"Encounters.codeDisplay:Postnatal_visit\", \"Encounters.codeDisplay:Prenatal_initial_visit\", \"Encounters.codeDisplay:Prenatal_visit\", \"Encounters.codeDisplay:Telemedicine_consultation_with_patient\"], Union{AbstractString, Number}[1.0], \n",
       "  [11 ,  1]  =  1.0\n",
       "  [12 ,  1]  =  1.0\n",
       "  [39 ,  1]  =  1.0\n",
       "  [94 ,  1]  =  1.0\n",
       "  [132,  1]  =  1.0\n",
       "  [188,  1]  =  1.0\n",
       "  [221,  1]  =  1.0\n",
       "  [242,  1]  =  1.0\n",
       "  [252,  1]  =  1.0\n",
       "  [296,  1]  =  1.0\n",
       "  [300,  1]  =  1.0\n",
       "  [333,  1]  =  1.0\n",
       "  ⋮\n",
       "  [943, 35]  =  1.0\n",
       "  [946, 35]  =  1.0\n",
       "  [964, 35]  =  1.0\n",
       "  [971, 35]  =  1.0\n",
       "  [974, 35]  =  1.0\n",
       "  [980, 35]  =  1.0\n",
       "  [74 , 36]  =  1.0\n",
       "  [114, 36]  =  1.0\n",
       "  [375, 36]  =  1.0\n",
       "  [391, 36]  =  1.0\n",
       "  [823, 36]  =  1.0\n",
       "  [862, 36]  =  1.0\n",
       "  [910, 36]  =  1.0)"
      ]
     },
     "execution_count": 3,
     "metadata": {},
     "output_type": "execute_result"
    }
   ],
   "source": [
    "T = CCD[:,StartsWith(\"Encounters.codeD,\")]"
   ]
  },
  {
   "cell_type": "code",
   "execution_count": 4,
   "metadata": {
    "collapsed": true,
    "jupyter": {
     "outputs_hidden": true
    }
   },
   "outputs": [
    {
     "data": {
      "text/plain": [
       "Dict{String,Int64} with 36 entries:\n",
       "  \"Encounters.codeDisplay:Encounter_for_symptom\"                          => 935\n",
       "  \"Encounters.codeDisplay:Encounter_for_symptom_(procedure)\"              => 5\n",
       "  \"Encounters.codeDisplay:Emergency_hospital_admission_for_asthma\"        => 19\n",
       "  \"Encounters.codeDisplay:Follow-up_encounter\"                            => 124\n",
       "  \"Encounters.codeDisplay:Encounter_Inpatient\"                            => 119\n",
       "  \"Encounters.codeDisplay:Outpatient_procedure\"                           => 30\n",
       "  \"Encounters.codeDisplay:Emergency_Encounter\"                            => 98\n",
       "  \"Encounters.codeDisplay:Obstetric_emergency_hospital_admission\"         => 132\n",
       "  \"Encounters.codeDisplay:Patient_encounter_procedure\"                    => 180\n",
       "  \"Encounters.codeDisplay:Encounter_for_'check-up'\"                       => 431\n",
       "  \"Encounters.codeDisplay:Drug_rehabilitation_and_detoxification\"         => 57\n",
       "  \"Encounters.codeDisplay:Inpatient_stay_(finding)\"                       => 49\n",
       "  \"Encounters.codeDisplay:Emergency_Room_Admission\"                       => 145\n",
       "  \"Encounters.codeDisplay:Emergency_room_admission_(procedure)\"           => 491\n",
       "  \"Encounters.codeDisplay:Admission_to_surgical_department\"               => 22\n",
       "  \"Encounters.codeDisplay:Consultation_for_treatment\"                     => 235\n",
       "  \"Encounters.codeDisplay:Domiciliary_or_rest_home_patient_evaluation_an… => 22\n",
       "  \"Encounters.codeDisplay:Non-urgent_orthopedic_admission\"                => 12\n",
       "  \"Encounters.codeDisplay:Postnatal_visit\"                                => 132\n",
       "  \"Encounters.codeDisplay:Prenatal_initial_visit\"                         => 268\n",
       "  \"Encounters.codeDisplay:Death_Certification\"                            => 104\n",
       "  \"Encounters.codeDisplay:Office_Visit\"                                   => 23\n",
       "  \"Encounters.codeDisplay:Outpatient_procedure_(procedure)\"               => 267\n",
       "  \"Encounters.codeDisplay:Patient-initiated_encounter\"                    => 57\n",
       "  \"Encounters.codeDisplay:Asthma_follow-up\"                               => 29\n",
       "  ⋮                                                                       => ⋮"
      ]
     },
     "execution_count": 4,
     "metadata": {},
     "output_type": "execute_result"
    }
   ],
   "source": [
    "r,c,v = find(T)\n",
    "d = countmap(c)"
   ]
  },
  {
   "cell_type": "code",
   "execution_count": 4,
   "metadata": {
    "collapsed": true,
    "jupyter": {
     "outputs_hidden": true
    }
   },
   "outputs": [
    {
     "ename": "LoadError",
     "evalue": "UndefVarError: bar not defined",
     "output_type": "error",
     "traceback": [
      "UndefVarError: bar not defined",
      "",
      "Stacktrace:",
      " [1] top-level scope at In[4]:4",
      " [2] include_string(::Function, ::Module, ::String, ::String) at ./loading.jl:1091",
      " [3] execute_code(::String, ::String) at /Users/geoffryroberts/.julia/packages/IJulia/a1SNk/src/execute_request.jl:27",
      " [4] execute_request(::ZMQ.Socket, ::IJulia.Msg) at /Users/geoffryroberts/.julia/packages/IJulia/a1SNk/src/execute_request.jl:86",
      " [5] #invokelatest#1 at ./essentials.jl:710 [inlined]",
      " [6] invokelatest at ./essentials.jl:709 [inlined]",
      " [7] eventloop(::ZMQ.Socket) at /Users/geoffryroberts/.julia/packages/IJulia/a1SNk/src/eventloop.jl:8",
      " [8] (::IJulia.var\"#15#18\")() at ./task.jl:356"
     ]
    }
   ],
   "source": [
    "n = ['a','b','c']\n",
    "v = [1, 10, 100]\n",
    "\n",
    "bar(n,v)"
   ]
  },
  {
   "cell_type": "code",
   "execution_count": null,
   "metadata": {},
   "outputs": [],
   "source": []
  }
 ],
 "metadata": {
  "kernelspec": {
   "display_name": "Julia 1.5.2",
   "language": "julia",
   "name": "julia-1.5"
  },
  "language_info": {
   "file_extension": ".jl",
   "mimetype": "application/julia",
   "name": "julia",
   "version": "1.5.2"
  }
 },
 "nbformat": 4,
 "nbformat_minor": 4
}
