{
 "cells": [
  {
   "cell_type": "code",
   "execution_count": 2,
   "id": "worse-syndicate",
   "metadata": {},
   "outputs": [],
   "source": [
    "using HTTP"
   ]
  },
  {
   "cell_type": "code",
   "execution_count": 13,
   "id": "native-fighter",
   "metadata": {},
   "outputs": [
    {
     "data": {
      "text/plain": [
       "200"
      ]
     },
     "metadata": {},
     "output_type": "display_data"
    },
    {
     "data": {
      "text/html": [
       "<h1>Ave Jupyter!!</h1>"
      ],
      "text/plain": [
       "HTML{String}(\"<h1>Ave Jupyter!!</h1>\")"
      ]
     },
     "metadata": {},
     "output_type": "display_data"
    }
   ],
   "source": [
    "r = HTTP.request(\"GET\", \"http://localhost:5000/c3/forJupyter\")\n",
    "display(r.status)\n",
    "display(HTML(String(r.body)))"
   ]
  },
  {
   "cell_type": "code",
   "execution_count": null,
   "id": "prime-leone",
   "metadata": {},
   "outputs": [],
   "source": []
  }
 ],
 "metadata": {
  "kernelspec": {
   "display_name": "Julia 1.5.2",
   "language": "julia",
   "name": "julia-1.5"
  },
  "language_info": {
   "file_extension": ".jl",
   "mimetype": "application/julia",
   "name": "julia",
   "version": "1.5.2"
  }
 },
 "nbformat": 4,
 "nbformat_minor": 5
}
